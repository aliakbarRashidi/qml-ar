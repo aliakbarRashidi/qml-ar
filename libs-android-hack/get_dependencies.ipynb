{
 "cells": [
  {
   "cell_type": "code",
   "execution_count": 1,
   "metadata": {
    "collapsed": true
   },
   "outputs": [],
   "source": [
    "not_found = []\n",
    "\n",
    "def memoize(f):\n",
    "    memo = {}\n",
    "    def helper(x):\n",
    "        if x not in memo:            \n",
    "            memo[x] = f(x)\n",
    "        return memo[x]\n",
    "    return helper\n",
    "\n",
    "@memoize\n",
    "def get_dependencies(file):\n",
    "    try:\n",
    "        open(file, 'r')\n",
    "    except:\n",
    "        not_found.append(file)\n",
    "        return [file]\n",
    "    readelf_bin = \"/home/opt/android-ndk-r15c/toolchains/arm-linux-androideabi-4.9/prebuilt/linux-x86_64/bin/arm-linux-androideabi-readelf\"\n",
    "    res = !{readelf_bin} -d {file} | grep NEEDED | cut -d \"[\" -f 2 | cut -d \"]\" -f 1\n",
    "    return res + [file]\n"
   ]
  },
  {
   "cell_type": "code",
   "execution_count": 2,
   "metadata": {},
   "outputs": [
    {
     "name": "stdout",
     "output_type": "stream",
     "text": [
      "Need: ['libsync.so', 'liblog.so', 'libcutils.so', 'libutils.so', 'libm.so', 'libbinder.so', 'libbase.so', 'libc++.so', 'libui.so', 'libdl.so', 'libhardware.so', 'liblzma.so', 'libc.so', 'libunwind.so', 'libbacktrace.so']\n",
      "Missing: []\n"
     ]
    }
   ],
   "source": [
    "not_found = []\n",
    "start_lib = 'libui.so'\n",
    "all_dependencies = [start_lib]\n",
    "\n",
    "while True:\n",
    "    new_dependencies = []\n",
    "    for library in all_dependencies:\n",
    "        new_dependencies += get_dependencies(library)\n",
    "    new_dependencies = list(set(new_dependencies))\n",
    "    exit = False\n",
    "    if len(new_dependencies) == len(all_dependencies):\n",
    "        exit = True\n",
    "    all_dependencies = new_dependencies\n",
    "    if exit: break\n",
    "        \n",
    "print('Need: %s' % str(all_dependencies))\n",
    "print('Missing: %s' % str(not_found))"
   ]
  },
  {
   "cell_type": "code",
   "execution_count": null,
   "metadata": {
    "collapsed": true
   },
   "outputs": [],
   "source": []
  },
  {
   "cell_type": "code",
   "execution_count": null,
   "metadata": {
    "collapsed": true
   },
   "outputs": [],
   "source": []
  }
 ],
 "metadata": {
  "kernelspec": {
   "display_name": "Python 3",
   "language": "python",
   "name": "python3"
  },
  "language_info": {
   "codemirror_mode": {
    "name": "ipython",
    "version": 3
   },
   "file_extension": ".py",
   "mimetype": "text/x-python",
   "name": "python",
   "nbconvert_exporter": "python",
   "pygments_lexer": "ipython3",
   "version": "3.6.3"
  }
 },
 "nbformat": 4,
 "nbformat_minor": 2
}
