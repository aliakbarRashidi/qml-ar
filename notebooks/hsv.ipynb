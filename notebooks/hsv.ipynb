{
 "cells": [
  {
   "cell_type": "code",
   "execution_count": 36,
   "metadata": {
    "collapsed": true
   },
   "outputs": [],
   "source": [
    "%matplotlib inline\n",
    "from matplotlib import pyplot as plt\n",
    "import numpy as np\n",
    "import cv2"
   ]
  },
  {
   "cell_type": "code",
   "execution_count": 37,
   "metadata": {
    "collapsed": true
   },
   "outputs": [],
   "source": [
    "img = cv2.imread('/home/sergei/Pictures/Webcam/2018-01-20-215718.jpg', cv2.IMREAD_COLOR)"
   ]
  },
  {
   "cell_type": "code",
   "execution_count": 38,
   "metadata": {},
   "outputs": [
    {
     "name": "stdout",
     "output_type": "stream",
     "text": [
      "Image is 450 by 600, 3 channels\n"
     ]
    }
   ],
   "source": [
    "factor = 600. / img.shape[1]\n",
    "im_res = cv2.resize(img, None, fx = factor, fy = factor)\n",
    "print('Image is %d by %d, %d channels' % im_res.shape)"
   ]
  },
  {
   "cell_type": "code",
   "execution_count": 76,
   "metadata": {},
   "outputs": [],
   "source": [
    "blur = cv2.medianBlur(im_res, 3);\n",
    "hsv = cv2.cvtColor(blur, cv2.COLOR_BGR2HSV)"
   ]
  },
  {
   "cell_type": "code",
   "execution_count": 84,
   "metadata": {},
   "outputs": [
    {
     "data": {
      "text/plain": [
       "<matplotlib.image.AxesImage at 0x7f8966002c88>"
      ]
     },
     "execution_count": 84,
     "metadata": {},
     "output_type": "execute_result"
    },
    {
     "data": {
      "image/png": "[encoded data removed]",
      "text/plain": [
       "<matplotlib.figure.Figure at 0x7f8966903f60>"
      ]
     },
     "metadata": {},
     "output_type": "display_data"
    }
   ],
   "source": [
    "MARKER_MIN1 = np.array([0, 50, 50], np.uint8)\n",
    "MARKER_MAX1 = np.array([20, 255, 255], np.uint8)\n",
    "\n",
    "thr1 = cv2.inRange(hsv, (0, 50, 50), (20, 255, 255));\n",
    "thr2 = cv2.inRange(hsv, (170, 50, 50), (180, 255, 255));\n",
    "\n",
    "thr = cv2.addWeighted(thr1, 1.0, thr2, 1.0, 0.0)\n",
    "\n",
    "plt.imshow(thr)"
   ]
  },
  {
   "cell_type": "code",
   "execution_count": null,
   "metadata": {
    "collapsed": true
   },
   "outputs": [],
   "source": []
  }
 ],
 "metadata": {
  "kernelspec": {
   "display_name": "Python 3",
   "language": "python",
   "name": "python3"
  },
  "language_info": {
   "codemirror_mode": {
    "name": "ipython",
    "version": 3
   },
   "file_extension": ".py",
   "mimetype": "text/x-python",
   "name": "python",
   "nbconvert_exporter": "python",
   "pygments_lexer": "ipython3",
   "version": "3.6.2"
  }
 },
 "nbformat": 4,
 "nbformat_minor": 2
}
