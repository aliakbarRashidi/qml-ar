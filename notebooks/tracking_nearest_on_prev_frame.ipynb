{
 "cells": [
  {
   "cell_type": "code",
   "execution_count": 1,
   "metadata": {},
   "outputs": [],
   "source": [
    "%matplotlib inline\n",
    "import cv2\n",
    "import numpy as np\n",
    "from matplotlib import pyplot as plt"
   ]
  },
  {
   "cell_type": "code",
   "execution_count": 2,
   "metadata": {},
   "outputs": [],
   "source": [
    "cap = cv2.VideoCapture(1)"
   ]
  },
  {
   "cell_type": "code",
   "execution_count": 3,
   "metadata": {},
   "outputs": [],
   "source": [
    "def get_frame_rgb(cap):\n",
    "    _, frame = cap.read()\n",
    "    frame = np.copy(frame)\n",
    "    #plt.imshow(frame)\n",
    "    target_width = 450\n",
    "    target_height = frame.shape[1] * target_width / frame.shape[0]\n",
    "    frame1 = cv2.resize(frame, (target_height, target_width))\n",
    "    framergb = cv2.cvtColor(frame1, cv2.COLOR_BGR2RGB)\n",
    "    return framergb"
   ]
  },
  {
   "cell_type": "code",
   "execution_count": 4,
   "metadata": {},
   "outputs": [],
   "source": [
    "def get_mask(framergb):\n",
    "    frame2 = cv2.cvtColor(framergb, cv2.COLOR_RGB2HSV)\n",
    "    \n",
    "    lower_red = np.array([160,50,50])\n",
    "    upper_red = np.array([179,255,255])\n",
    "\n",
    "    # Threshold the HSV image to get only blue colors\n",
    "    mask = cv2.inRange(frame2, lower_red, upper_red)\n",
    "\n",
    "    # Bitwise-AND mask and original image\n",
    "    #res = cv2.bitwise_and(frame2, frame2, mask = mask)\n",
    "    #plt.imshow(mask)\n",
    "    return mask"
   ]
  },
  {
   "cell_type": "code",
   "execution_count": 5,
   "metadata": {},
   "outputs": [],
   "source": [
    "def get_keypoints(mask):\n",
    "    canvas = np.copy(framergb)\n",
    "\n",
    "    # Setup SimpleBlobDetector parameters.\n",
    "    params = cv2.SimpleBlobDetector_Params()\n",
    "\n",
    "    # Change thresholds\n",
    "    params.minThreshold = 100;\n",
    "    params.maxThreshold = 100;\n",
    "\n",
    "    # Filter by Area.\n",
    "    params.filterByArea = False\n",
    "    params.minArea = 1500\n",
    "\n",
    "    # Filter by Circularity\n",
    "    params.filterByCircularity = False\n",
    "    params.minCircularity = 0.1\n",
    "\n",
    "    # Filter by Convexity\n",
    "    params.filterByConvexity = False\n",
    "    params.minConvexity = 0.87\n",
    "\n",
    "    # Filter by Inertia\n",
    "    params.filterByInertia = False\n",
    "    params.minInertiaRatio = 0.01\n",
    "\n",
    "    detector = cv2.SimpleBlobDetector_create()\n",
    "\n",
    "    # Detect blobs.\n",
    "    keypoints = detector.detect(255-mask)\n",
    "\n",
    "    # Draw detected blobs as red circles.\n",
    "    # cv2.DRAW_MATCHES_FLAGS_DRAW_RICH_KEYPOINTS ensures the size of the circle corresponds to the size of blob\n",
    "    im_with_keypoints = cv2.drawKeypoints(canvas, keypoints, np.array([]), (0,0,255), cv2.DRAW_MATCHES_FLAGS_DRAW_RICH_KEYPOINTS)\n",
    "\n",
    "    points = [kp.pt for kp in keypoints]\n",
    "\n",
    "    #plt.imshow(im_with_keypoints)\n",
    "    return np.array(points)"
   ]
  },
  {
   "cell_type": "code",
   "execution_count": 11,
   "metadata": {},
   "outputs": [],
   "source": [
    "def draw_points(points, last_points, framergb):\n",
    "    def coords_to_cv(p):\n",
    "        return tuple([int(t) for t in p])\n",
    "    def get_dist(p1, p2):\n",
    "        return (p1[0] - p2[0]) ** 2 + (p1[1] - p2[1]) ** 2\n",
    "    canvas = np.copy(framergb)\n",
    "    assigned_indices = []\n",
    "    distances = []\n",
    "    for p in points:\n",
    "        min_i = -1\n",
    "        for i, p1 in enumerate(last_points):\n",
    "            if min_i == -1:\n",
    "                min_i = i\n",
    "            dist = get_dist(last_points[i], p)\n",
    "            min_dist = get_dist(last_points[min_i], p)\n",
    "            if dist < min_dist:\n",
    "                min_i = i\n",
    "        distances.append(get_dist(last_points[min_i], p))\n",
    "        assigned_indices.append(min_i)\n",
    "        \n",
    "    th = np.median(distances)\n",
    "        \n",
    "    for i in range(len(points)):\n",
    "        p = points[i]\n",
    "        dist = distances[i]\n",
    "        p1 = last_points[assigned_indices[i]]\n",
    "        if dist <= th:\n",
    "            cv2.line(canvas, coords_to_cv(p1), coords_to_cv(p), (0, 255, 0))\n",
    "            cv2.circle(canvas, coords_to_cv(p), 3, (0, 0, 255))\n",
    "    return canvas"
   ]
  },
  {
   "cell_type": "code",
   "execution_count": 12,
   "metadata": {},
   "outputs": [
    {
     "name": "stderr",
     "output_type": "stream",
     "text": [
      "/home/sergei/Documents/repos/git/EPFL/CHILI/Cellulo/qml-ar/notebooks/venv/local/lib/python2.7/site-packages/numpy/core/fromnumeric.py:2957: RuntimeWarning: Mean of empty slice.\n",
      "  out=out, **kwargs)\n",
      "/home/sergei/Documents/repos/git/EPFL/CHILI/Cellulo/qml-ar/notebooks/venv/local/lib/python2.7/site-packages/numpy/core/_methods.py:80: RuntimeWarning: invalid value encountered in double_scalars\n",
      "  ret = ret.dtype.type(ret / rcount)\n"
     ]
    },
    {
     "ename": "KeyboardInterrupt",
     "evalue": "",
     "output_type": "error",
     "traceback": [
      "\u001b[0;31m---------------------------------------------------------------------------\u001b[0m",
      "\u001b[0;31mKeyboardInterrupt\u001b[0m                         Traceback (most recent call last)",
      "\u001b[0;32m<ipython-input-12-5fa32cc1f7aa>\u001b[0m in \u001b[0;36m<module>\u001b[0;34m()\u001b[0m\n\u001b[1;32m      2\u001b[0m \u001b[0;32mwhile\u001b[0m\u001b[0;34m(\u001b[0m\u001b[0mTrue\u001b[0m\u001b[0;34m)\u001b[0m\u001b[0;34m:\u001b[0m\u001b[0;34m\u001b[0m\u001b[0m\n\u001b[1;32m      3\u001b[0m     \u001b[0mframergb\u001b[0m \u001b[0;34m=\u001b[0m \u001b[0mget_frame_rgb\u001b[0m\u001b[0;34m(\u001b[0m\u001b[0mcap\u001b[0m\u001b[0;34m)\u001b[0m\u001b[0;34m\u001b[0m\u001b[0m\n\u001b[0;32m----> 4\u001b[0;31m     \u001b[0mmask\u001b[0m \u001b[0;34m=\u001b[0m \u001b[0mget_mask\u001b[0m\u001b[0;34m(\u001b[0m\u001b[0mframergb\u001b[0m\u001b[0;34m)\u001b[0m\u001b[0;34m\u001b[0m\u001b[0m\n\u001b[0m\u001b[1;32m      5\u001b[0m     \u001b[0mpoints\u001b[0m \u001b[0;34m=\u001b[0m \u001b[0mget_keypoints\u001b[0m\u001b[0;34m(\u001b[0m\u001b[0mmask\u001b[0m\u001b[0;34m)\u001b[0m\u001b[0;34m\u001b[0m\u001b[0m\n\u001b[1;32m      6\u001b[0m     \u001b[0;32mif\u001b[0m \u001b[0mlen\u001b[0m\u001b[0;34m(\u001b[0m\u001b[0mlast_points\u001b[0m\u001b[0;34m)\u001b[0m \u001b[0;34m>\u001b[0m \u001b[0;36m0\u001b[0m\u001b[0;34m:\u001b[0m\u001b[0;34m\u001b[0m\u001b[0m\n",
      "\u001b[0;32m<ipython-input-4-a208a281cf1e>\u001b[0m in \u001b[0;36mget_mask\u001b[0;34m(framergb)\u001b[0m\n\u001b[1;32m      1\u001b[0m \u001b[0;32mdef\u001b[0m \u001b[0mget_mask\u001b[0m\u001b[0;34m(\u001b[0m\u001b[0mframergb\u001b[0m\u001b[0;34m)\u001b[0m\u001b[0;34m:\u001b[0m\u001b[0;34m\u001b[0m\u001b[0m\n\u001b[0;32m----> 2\u001b[0;31m     \u001b[0mframe2\u001b[0m \u001b[0;34m=\u001b[0m \u001b[0mcv2\u001b[0m\u001b[0;34m.\u001b[0m\u001b[0mcvtColor\u001b[0m\u001b[0;34m(\u001b[0m\u001b[0mframergb\u001b[0m\u001b[0;34m,\u001b[0m \u001b[0mcv2\u001b[0m\u001b[0;34m.\u001b[0m\u001b[0mCOLOR_RGB2HSV\u001b[0m\u001b[0;34m)\u001b[0m\u001b[0;34m\u001b[0m\u001b[0m\n\u001b[0m\u001b[1;32m      3\u001b[0m \u001b[0;34m\u001b[0m\u001b[0m\n\u001b[1;32m      4\u001b[0m     \u001b[0mlower_red\u001b[0m \u001b[0;34m=\u001b[0m \u001b[0mnp\u001b[0m\u001b[0;34m.\u001b[0m\u001b[0marray\u001b[0m\u001b[0;34m(\u001b[0m\u001b[0;34m[\u001b[0m\u001b[0;36m160\u001b[0m\u001b[0;34m,\u001b[0m\u001b[0;36m50\u001b[0m\u001b[0;34m,\u001b[0m\u001b[0;36m50\u001b[0m\u001b[0;34m]\u001b[0m\u001b[0;34m)\u001b[0m\u001b[0;34m\u001b[0m\u001b[0m\n\u001b[1;32m      5\u001b[0m     \u001b[0mupper_red\u001b[0m \u001b[0;34m=\u001b[0m \u001b[0mnp\u001b[0m\u001b[0;34m.\u001b[0m\u001b[0marray\u001b[0m\u001b[0;34m(\u001b[0m\u001b[0;34m[\u001b[0m\u001b[0;36m179\u001b[0m\u001b[0;34m,\u001b[0m\u001b[0;36m255\u001b[0m\u001b[0;34m,\u001b[0m\u001b[0;36m255\u001b[0m\u001b[0;34m]\u001b[0m\u001b[0;34m)\u001b[0m\u001b[0;34m\u001b[0m\u001b[0m\n",
      "\u001b[0;31mKeyboardInterrupt\u001b[0m: "
     ]
    }
   ],
   "source": [
    "last_points = []\n",
    "while(True):\n",
    "    framergb = get_frame_rgb(cap)\n",
    "    mask = get_mask(framergb)\n",
    "    points = get_keypoints(mask)\n",
    "    if len(last_points) > 0:\n",
    "        canvas = draw_points(points, last_points, framergb)\n",
    "        cv2.imshow('frame', canvas)\n",
    "        if cv2.waitKey(1) & 0xFF == ord('q'):\n",
    "            break\n",
    "    last_points = np.copy(points)"
   ]
  },
  {
   "cell_type": "code",
   "execution_count": null,
   "metadata": {},
   "outputs": [],
   "source": []
  }
 ],
 "metadata": {
  "kernelspec": {
   "display_name": "Python 2",
   "language": "python",
   "name": "python2"
  },
  "language_info": {
   "codemirror_mode": {
    "name": "ipython",
    "version": 2
   },
   "file_extension": ".py",
   "mimetype": "text/x-python",
   "name": "python",
   "nbconvert_exporter": "python",
   "pygments_lexer": "ipython2",
   "version": "2.7.13"
  }
 },
 "nbformat": 4,
 "nbformat_minor": 2
}
